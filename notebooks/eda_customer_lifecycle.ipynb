{
 "cells": [
  {
   "cell_type": "code",
   "execution_count": 1,
   "id": "b4a73246-ef62-4f0b-9361-540dabe5efd1",
   "metadata": {},
   "outputs": [
    {
     "name": "stdout",
     "output_type": "stream",
     "text": [
      "     ID  Year_Birth   Education Marital_Status   Income  Kidhome  Teenhome  \\\n",
      "0  5524        1957  Graduation         Single  58138.0        0         0   \n",
      "1  2174        1954  Graduation         Single  46344.0        1         1   \n",
      "2  4141        1965  Graduation       Together  71613.0        0         0   \n",
      "3  6182        1984  Graduation       Together  26646.0        1         0   \n",
      "4  5324        1981         PhD        Married  58293.0        1         0   \n",
      "\n",
      "  Dt_Customer  Recency  MntWines  ...  NumWebVisitsMonth  AcceptedCmp3  \\\n",
      "0  04-09-2012       58       635  ...                  7             0   \n",
      "1  08-03-2014       38        11  ...                  5             0   \n",
      "2  21-08-2013       26       426  ...                  4             0   \n",
      "3  10-02-2014       26        11  ...                  6             0   \n",
      "4  19-01-2014       94       173  ...                  5             0   \n",
      "\n",
      "   AcceptedCmp4  AcceptedCmp5  AcceptedCmp1  AcceptedCmp2  Complain  \\\n",
      "0             0             0             0             0         0   \n",
      "1             0             0             0             0         0   \n",
      "2             0             0             0             0         0   \n",
      "3             0             0             0             0         0   \n",
      "4             0             0             0             0         0   \n",
      "\n",
      "   Z_CostContact  Z_Revenue  Response  \n",
      "0              3         11         1  \n",
      "1              3         11         0  \n",
      "2              3         11         0  \n",
      "3              3         11         0  \n",
      "4              3         11         0  \n",
      "\n",
      "[5 rows x 29 columns]\n",
      "Index(['ID', 'Year_Birth', 'Education', 'Marital_Status', 'Income', 'Kidhome',\n",
      "       'Teenhome', 'Dt_Customer', 'Recency', 'MntWines', 'MntFruits',\n",
      "       'MntMeatProducts', 'MntFishProducts', 'MntSweetProducts',\n",
      "       'MntGoldProds', 'NumDealsPurchases', 'NumWebPurchases',\n",
      "       'NumCatalogPurchases', 'NumStorePurchases', 'NumWebVisitsMonth',\n",
      "       'AcceptedCmp3', 'AcceptedCmp4', 'AcceptedCmp5', 'AcceptedCmp1',\n",
      "       'AcceptedCmp2', 'Complain', 'Z_CostContact', 'Z_Revenue', 'Response'],\n",
      "      dtype='object')\n",
      "\n",
      " Missing values:\n",
      "ID                      0\n",
      "Year_Birth              0\n",
      "Education               0\n",
      "Marital_Status          0\n",
      "Income                 24\n",
      "Kidhome                 0\n",
      "Teenhome                0\n",
      "Dt_Customer             0\n",
      "Recency                 0\n",
      "MntWines                0\n",
      "MntFruits               0\n",
      "MntMeatProducts         0\n",
      "MntFishProducts         0\n",
      "MntSweetProducts        0\n",
      "MntGoldProds            0\n",
      "NumDealsPurchases       0\n",
      "NumWebPurchases         0\n",
      "NumCatalogPurchases     0\n",
      "NumStorePurchases       0\n",
      "NumWebVisitsMonth       0\n",
      "AcceptedCmp3            0\n",
      "AcceptedCmp4            0\n",
      "AcceptedCmp5            0\n",
      "AcceptedCmp1            0\n",
      "AcceptedCmp2            0\n",
      "Complain                0\n",
      "Z_CostContact           0\n",
      "Z_Revenue               0\n",
      "Response                0\n",
      "dtype: int64\n",
      "\n",
      " Column Data Types:\n",
      "ID                       int64\n",
      "Year_Birth               int64\n",
      "Education               object\n",
      "Marital_Status          object\n",
      "Income                 float64\n",
      "Kidhome                  int64\n",
      "Teenhome                 int64\n",
      "Dt_Customer             object\n",
      "Recency                  int64\n",
      "MntWines                 int64\n",
      "MntFruits                int64\n",
      "MntMeatProducts          int64\n",
      "MntFishProducts          int64\n",
      "MntSweetProducts         int64\n",
      "MntGoldProds             int64\n",
      "NumDealsPurchases        int64\n",
      "NumWebPurchases          int64\n",
      "NumCatalogPurchases      int64\n",
      "NumStorePurchases        int64\n",
      "NumWebVisitsMonth        int64\n",
      "AcceptedCmp3             int64\n",
      "AcceptedCmp4             int64\n",
      "AcceptedCmp5             int64\n",
      "AcceptedCmp1             int64\n",
      "AcceptedCmp2             int64\n",
      "Complain                 int64\n",
      "Z_CostContact            int64\n",
      "Z_Revenue                int64\n",
      "Response                 int64\n",
      "dtype: object\n",
      "\n",
      " Dataset Shape: 2240 rows, 29 columns\n",
      "\n",
      " Descriptive statistics(Numeric):\n",
      "                 ID   Year_Birth         Income      Kidhome     Teenhome  \\\n",
      "count   2240.000000  2240.000000    2216.000000  2240.000000  2240.000000   \n",
      "mean    5592.159821  1968.805804   52247.251354     0.444196     0.506250   \n",
      "std     3246.662198    11.984069   25173.076661     0.538398     0.544538   \n",
      "min        0.000000  1893.000000    1730.000000     0.000000     0.000000   \n",
      "25%     2828.250000  1959.000000   35303.000000     0.000000     0.000000   \n",
      "50%     5458.500000  1970.000000   51381.500000     0.000000     0.000000   \n",
      "75%     8427.750000  1977.000000   68522.000000     1.000000     1.000000   \n",
      "max    11191.000000  1996.000000  666666.000000     2.000000     2.000000   \n",
      "\n",
      "           Recency     MntWines    MntFruits  MntMeatProducts  \\\n",
      "count  2240.000000  2240.000000  2240.000000      2240.000000   \n",
      "mean     49.109375   303.935714    26.302232       166.950000   \n",
      "std      28.962453   336.597393    39.773434       225.715373   \n",
      "min       0.000000     0.000000     0.000000         0.000000   \n",
      "25%      24.000000    23.750000     1.000000        16.000000   \n",
      "50%      49.000000   173.500000     8.000000        67.000000   \n",
      "75%      74.000000   504.250000    33.000000       232.000000   \n",
      "max      99.000000  1493.000000   199.000000      1725.000000   \n",
      "\n",
      "       MntFishProducts  ...  NumWebVisitsMonth  AcceptedCmp3  AcceptedCmp4  \\\n",
      "count      2240.000000  ...        2240.000000   2240.000000   2240.000000   \n",
      "mean         37.525446  ...           5.316518      0.072768      0.074554   \n",
      "std          54.628979  ...           2.426645      0.259813      0.262728   \n",
      "min           0.000000  ...           0.000000      0.000000      0.000000   \n",
      "25%           3.000000  ...           3.000000      0.000000      0.000000   \n",
      "50%          12.000000  ...           6.000000      0.000000      0.000000   \n",
      "75%          50.000000  ...           7.000000      0.000000      0.000000   \n",
      "max         259.000000  ...          20.000000      1.000000      1.000000   \n",
      "\n",
      "       AcceptedCmp5  AcceptedCmp1  AcceptedCmp2     Complain  Z_CostContact  \\\n",
      "count   2240.000000   2240.000000   2240.000000  2240.000000         2240.0   \n",
      "mean       0.072768      0.064286      0.013393     0.009375            3.0   \n",
      "std        0.259813      0.245316      0.114976     0.096391            0.0   \n",
      "min        0.000000      0.000000      0.000000     0.000000            3.0   \n",
      "25%        0.000000      0.000000      0.000000     0.000000            3.0   \n",
      "50%        0.000000      0.000000      0.000000     0.000000            3.0   \n",
      "75%        0.000000      0.000000      0.000000     0.000000            3.0   \n",
      "max        1.000000      1.000000      1.000000     1.000000            3.0   \n",
      "\n",
      "       Z_Revenue     Response  \n",
      "count     2240.0  2240.000000  \n",
      "mean        11.0     0.149107  \n",
      "std          0.0     0.356274  \n",
      "min         11.0     0.000000  \n",
      "25%         11.0     0.000000  \n",
      "50%         11.0     0.000000  \n",
      "75%         11.0     0.000000  \n",
      "max         11.0     1.000000  \n",
      "\n",
      "[8 rows x 26 columns]\n",
      "\n",
      " Descriptive Statistics (Categorical):\n",
      "         Education Marital_Status Dt_Customer\n",
      "count         2240           2240        2240\n",
      "unique           5              8         663\n",
      "top     Graduation        Married  31-08-2012\n",
      "freq          1127            864          12\n"
     ]
    }
   ],
   "source": [
    "import pandas as pd\n",
    "# Step1: Load the dataset\n",
    "df = pd.read_csv(\"E:/Data Projects/customer-lifecycle-intelligence/data/raw/marketing_campaign.csv\",sep='\\t')\n",
    "print(df.head())\n",
    "print(df.columns)\n",
    "#Check missing values\n",
    "print(\"\\n Missing values:\")\n",
    "print(df.isnull().sum())\n",
    "#Check data types\n",
    "print(\"\\n Column Data Types:\")\n",
    "print(df.dtypes)\n",
    "#Check Shape\n",
    "print(f\"\\n Dataset Shape: {df.shape[0]} rows, {df.shape[1]} columns\")\n",
    "#Description of numerical and categorical columns\n",
    "print(\"\\n Descriptive statistics(Numeric):\")\n",
    "print(df.describe())\n",
    "print(\"\\n Descriptive Statistics (Categorical):\")\n",
    "print(df.describe(include=['object']))"
   ]
  },
  {
   "cell_type": "code",
   "execution_count": 3,
   "id": "eacd09c8-3c17-4816-ac94-67c4ade2076f",
   "metadata": {},
   "outputs": [
    {
     "data": {
      "text/plain": [
       "0    04-09-2012\n",
       "1    08-03-2014\n",
       "2    21-08-2013\n",
       "3    10-02-2014\n",
       "4    19-01-2014\n",
       "Name: Dt_Customer, dtype: object"
      ]
     },
     "execution_count": 3,
     "metadata": {},
     "output_type": "execute_result"
    }
   ],
   "source": [
    "df['Dt_Customer'].head()"
   ]
  },
  {
   "cell_type": "code",
   "execution_count": 5,
   "id": "3a1247f1-0974-45f5-aeda-5980e910ea7a",
   "metadata": {},
   "outputs": [
    {
     "data": {
      "text/plain": [
       "0   2012-04-09\n",
       "1   2014-08-03\n",
       "2          NaT\n",
       "3   2014-10-02\n",
       "4          NaT\n",
       "Name: Dt_Customer, dtype: datetime64[ns]"
      ]
     },
     "execution_count": 5,
     "metadata": {},
     "output_type": "execute_result"
    }
   ],
   "source": [
    "df['Dt_Customer'] = pd.to_datetime(df['Dt_Customer'], errors='coerce')\n",
    "df['Dt_Customer'].head()"
   ]
  },
  {
   "cell_type": "code",
   "execution_count": 7,
   "id": "90d8bc8b-cf58-4b5c-90d2-105c4582dbe0",
   "metadata": {},
   "outputs": [],
   "source": [
    "df['Dt_Customer'] = pd.to_datetime(df['Dt_Customer'], format='%d-%m-%Y', errors='coerce')"
   ]
  },
  {
   "cell_type": "code",
   "execution_count": 9,
   "id": "b595c9ac-197e-4cfa-9ad7-6df3699b59df",
   "metadata": {},
   "outputs": [
    {
     "name": "stdout",
     "output_type": "stream",
     "text": [
      "0   2012-04-09\n",
      "1   2014-08-03\n",
      "2          NaT\n",
      "3   2014-10-02\n",
      "4          NaT\n",
      "Name: Dt_Customer, dtype: datetime64[ns]\n"
     ]
    }
   ],
   "source": [
    "print(df['Dt_Customer'].head())"
   ]
  },
  {
   "cell_type": "code",
   "execution_count": 11,
   "id": "798210f7-75d3-4b13-9031-0966aeef0b07",
   "metadata": {},
   "outputs": [
    {
     "data": {
      "text/plain": [
       "0   2012-04-09\n",
       "1   2014-08-03\n",
       "2          NaT\n",
       "3   2014-10-02\n",
       "4          NaT\n",
       "Name: Dt_Customer, dtype: datetime64[ns]"
      ]
     },
     "execution_count": 11,
     "metadata": {},
     "output_type": "execute_result"
    }
   ],
   "source": [
    "df['Dt_Customer'].head()"
   ]
  },
  {
   "cell_type": "code",
   "execution_count": null,
   "id": "a8d444c4-b955-4ef5-876d-991993780e13",
   "metadata": {},
   "outputs": [],
   "source": []
  },
  {
   "cell_type": "code",
   "execution_count": 25,
   "id": "48646e41-20ae-4c94-8179-29fac55e43ca",
   "metadata": {},
   "outputs": [],
   "source": [
    "df = pd.read_csv(\"../marketing_campaign.csv\", sep='\\t')"
   ]
  },
  {
   "cell_type": "code",
   "execution_count": 27,
   "id": "e13f1310-148d-4395-a812-2fbdda17a7f6",
   "metadata": {},
   "outputs": [
    {
     "data": {
      "text/plain": [
       "0    04-09-2012\n",
       "1    08-03-2014\n",
       "2    21-08-2013\n",
       "3    10-02-2014\n",
       "4    19-01-2014\n",
       "Name: Dt_Customer, dtype: object"
      ]
     },
     "execution_count": 27,
     "metadata": {},
     "output_type": "execute_result"
    }
   ],
   "source": [
    "df['Dt_Customer'].head()"
   ]
  },
  {
   "cell_type": "code",
   "execution_count": 29,
   "id": "9b2e70fe-0caf-4e9e-ae91-568a482a2060",
   "metadata": {},
   "outputs": [],
   "source": [
    "df['Dt_Customer'] = pd.to_datetime(df['Dt_Customer'], format='%d-%m-%Y', errors='coerce')"
   ]
  },
  {
   "cell_type": "code",
   "execution_count": 31,
   "id": "beb29297-a2ba-4dc2-b597-1cc0c46b43a4",
   "metadata": {},
   "outputs": [
    {
     "data": {
      "text/plain": [
       "0   2012-09-04\n",
       "1   2014-03-08\n",
       "2   2013-08-21\n",
       "3   2014-02-10\n",
       "4   2014-01-19\n",
       "Name: Dt_Customer, dtype: datetime64[ns]"
      ]
     },
     "execution_count": 31,
     "metadata": {},
     "output_type": "execute_result"
    }
   ],
   "source": [
    "df['Dt_Customer'].head()"
   ]
  },
  {
   "cell_type": "code",
   "execution_count": 43,
   "id": "bd906876-e2e4-4ca8-a8ad-4efd1512af9d",
   "metadata": {},
   "outputs": [
    {
     "data": {
      "text/plain": [
       "0"
      ]
     },
     "execution_count": 43,
     "metadata": {},
     "output_type": "execute_result"
    }
   ],
   "source": [
    "df['Dt_Customer'].isnull().sum()"
   ]
  },
  {
   "cell_type": "code",
   "execution_count": 35,
   "id": "630bc8cc-646f-4fed-8dce-2aa3f673ddf9",
   "metadata": {},
   "outputs": [
    {
     "data": {
      "text/plain": [
       "24"
      ]
     },
     "execution_count": 35,
     "metadata": {},
     "output_type": "execute_result"
    }
   ],
   "source": [
    "df['Income'].isnull().sum()"
   ]
  },
  {
   "cell_type": "code",
   "execution_count": 39,
   "id": "58c33f11-8e05-43d4-af76-fd399e0128f4",
   "metadata": {},
   "outputs": [],
   "source": [
    "df['Income'] = df['Income'].fillna(df['Income'].median())"
   ]
  },
  {
   "cell_type": "code",
   "execution_count": 41,
   "id": "7a36a109-159e-419b-9683-bc4db9dd065b",
   "metadata": {},
   "outputs": [
    {
     "name": "stdout",
     "output_type": "stream",
     "text": [
      "Z_Revenue        1\n",
      "Z_CostContact    1\n",
      "dtype: int64\n"
     ]
    }
   ],
   "source": [
    "constant_check = df.nunique().sort_values()\n",
    "print(constant_check[constant_check <= 1])"
   ]
  },
  {
   "cell_type": "code",
   "execution_count": 45,
   "id": "29afe114-fa2f-42c6-955f-93dea2a40f20",
   "metadata": {},
   "outputs": [],
   "source": [
    "df.drop(['Z_CostContact', 'Z_Revenue'], axis=1, inplace=True)"
   ]
  },
  {
   "cell_type": "code",
   "execution_count": 51,
   "id": "e322deb3-255b-47fa-8391-d7d57b0f1540",
   "metadata": {},
   "outputs": [],
   "source": [
    "#Check missingvalues"
   ]
  },
  {
   "cell_type": "code",
   "execution_count": 59,
   "id": "5b8c370b-a60d-4204-b91c-7991ea1dd98a",
   "metadata": {},
   "outputs": [
    {
     "name": "stdout",
     "output_type": "stream",
     "text": [
      "Missing values:\n",
      "ID                     0\n",
      "MntGoldProds           0\n",
      "Complain               0\n",
      "AcceptedCmp2           0\n",
      "AcceptedCmp1           0\n",
      "AcceptedCmp5           0\n",
      "AcceptedCmp4           0\n",
      "AcceptedCmp3           0\n",
      "NumWebVisitsMonth      0\n",
      "NumStorePurchases      0\n",
      "NumCatalogPurchases    0\n",
      "NumWebPurchases        0\n",
      "NumDealsPurchases      0\n",
      "MntSweetProducts       0\n",
      "Year_Birth             0\n",
      "MntFishProducts        0\n",
      "MntMeatProducts        0\n",
      "MntFruits              0\n",
      "MntWines               0\n",
      "Recency                0\n",
      "Dt_Customer            0\n",
      "Teenhome               0\n",
      "Kidhome                0\n",
      "Income                 0\n",
      "Marital_Status         0\n",
      "Education              0\n",
      "Response               0\n",
      "dtype: int64\n"
     ]
    }
   ],
   "source": [
    "print(\"Missing values:\")\n",
    "print(df.isnull().sum().sort_values(ascending=False))"
   ]
  },
  {
   "cell_type": "code",
   "execution_count": 61,
   "id": "fae1ec50-be4c-47ab-bf76-e0073613525a",
   "metadata": {},
   "outputs": [
    {
     "name": "stdout",
     "output_type": "stream",
     "text": [
      "\n",
      "Data types:\n",
      "ID                              int64\n",
      "Year_Birth                      int64\n",
      "Education                      object\n",
      "Marital_Status                 object\n",
      "Income                        float64\n",
      "Kidhome                         int64\n",
      "Teenhome                        int64\n",
      "Dt_Customer            datetime64[ns]\n",
      "Recency                         int64\n",
      "MntWines                        int64\n",
      "MntFruits                       int64\n",
      "MntMeatProducts                 int64\n",
      "MntFishProducts                 int64\n",
      "MntSweetProducts                int64\n",
      "MntGoldProds                    int64\n",
      "NumDealsPurchases               int64\n",
      "NumWebPurchases                 int64\n",
      "NumCatalogPurchases             int64\n",
      "NumStorePurchases               int64\n",
      "NumWebVisitsMonth               int64\n",
      "AcceptedCmp3                    int64\n",
      "AcceptedCmp4                    int64\n",
      "AcceptedCmp5                    int64\n",
      "AcceptedCmp1                    int64\n",
      "AcceptedCmp2                    int64\n",
      "Complain                        int64\n",
      "Response                        int64\n",
      "dtype: object\n"
     ]
    }
   ],
   "source": [
    "print(\"\\nData types:\")\n",
    "print(df.dtypes)\n"
   ]
  },
  {
   "cell_type": "code",
   "execution_count": 63,
   "id": "b85e2e01-f2cf-4f36-a246-1f1613dac335",
   "metadata": {},
   "outputs": [
    {
     "name": "stdout",
     "output_type": "stream",
     "text": [
      "\n",
      "Duplicate rows: 0\n"
     ]
    }
   ],
   "source": [
    "print(f\"\\nDuplicate rows: {df.duplicated().sum()}\")"
   ]
  },
  {
   "cell_type": "code",
   "execution_count": 65,
   "id": "7b417980-9775-4f46-9a8d-d6f7e50739d1",
   "metadata": {},
   "outputs": [
    {
     "name": "stdout",
     "output_type": "stream",
     "text": [
      "\n",
      "Final dataset shape: 2240 rows, 27 columns\n"
     ]
    }
   ],
   "source": [
    "print(f\"\\nFinal dataset shape: {df.shape[0]} rows, {df.shape[1]} columns\")"
   ]
  },
  {
   "cell_type": "code",
   "execution_count": 67,
   "id": "8b46f4b3-5ad8-4f94-969c-94ee5adf6f5d",
   "metadata": {},
   "outputs": [],
   "source": [
    "df['Total_Spent']= df[['MntWines', 'MntFruits', 'MntMeatProducts',\n",
    "                        'MntFishProducts', 'MntSweetProducts', 'MntGoldProds']].sum(axis=1)"
   ]
  },
  {
   "cell_type": "code",
   "execution_count": 69,
   "id": "924f4ce4-ff88-411c-8e43-e4c64f2de25b",
   "metadata": {},
   "outputs": [
    {
     "data": {
      "text/html": [
       "<div>\n",
       "<style scoped>\n",
       "    .dataframe tbody tr th:only-of-type {\n",
       "        vertical-align: middle;\n",
       "    }\n",
       "\n",
       "    .dataframe tbody tr th {\n",
       "        vertical-align: top;\n",
       "    }\n",
       "\n",
       "    .dataframe thead th {\n",
       "        text-align: right;\n",
       "    }\n",
       "</style>\n",
       "<table border=\"1\" class=\"dataframe\">\n",
       "  <thead>\n",
       "    <tr style=\"text-align: right;\">\n",
       "      <th></th>\n",
       "      <th>Total_Spent</th>\n",
       "    </tr>\n",
       "  </thead>\n",
       "  <tbody>\n",
       "    <tr>\n",
       "      <th>count</th>\n",
       "      <td>2240.000000</td>\n",
       "    </tr>\n",
       "    <tr>\n",
       "      <th>mean</th>\n",
       "      <td>605.798214</td>\n",
       "    </tr>\n",
       "    <tr>\n",
       "      <th>std</th>\n",
       "      <td>602.249288</td>\n",
       "    </tr>\n",
       "    <tr>\n",
       "      <th>min</th>\n",
       "      <td>5.000000</td>\n",
       "    </tr>\n",
       "    <tr>\n",
       "      <th>25%</th>\n",
       "      <td>68.750000</td>\n",
       "    </tr>\n",
       "    <tr>\n",
       "      <th>50%</th>\n",
       "      <td>396.000000</td>\n",
       "    </tr>\n",
       "    <tr>\n",
       "      <th>75%</th>\n",
       "      <td>1045.500000</td>\n",
       "    </tr>\n",
       "    <tr>\n",
       "      <th>max</th>\n",
       "      <td>2525.000000</td>\n",
       "    </tr>\n",
       "  </tbody>\n",
       "</table>\n",
       "</div>"
      ],
      "text/plain": [
       "       Total_Spent\n",
       "count  2240.000000\n",
       "mean    605.798214\n",
       "std     602.249288\n",
       "min       5.000000\n",
       "25%      68.750000\n",
       "50%     396.000000\n",
       "75%    1045.500000\n",
       "max    2525.000000"
      ]
     },
     "execution_count": 69,
     "metadata": {},
     "output_type": "execute_result"
    }
   ],
   "source": [
    "df[['Total_Spent']].describe()"
   ]
  },
  {
   "cell_type": "code",
   "execution_count": 71,
   "id": "a4b8c2b7-7c2f-4c09-90cd-f5e978a75af1",
   "metadata": {},
   "outputs": [],
   "source": [
    "# Total number of purchases (anywhere)\n",
    "df['Total_Purchases'] = df[['NumWebPurchases', 'NumCatalogPurchases', 'NumStorePurchases']].sum(axis=1)"
   ]
  },
  {
   "cell_type": "code",
   "execution_count": 73,
   "id": "553a91b3-d26f-4ef9-ac0f-5b8cea834965",
   "metadata": {},
   "outputs": [],
   "source": [
    "df['Web_Purchase_Ratio'] = df['NumWebPurchases'] / df['Total_Purchases']\n",
    "df['Catalog_Purchase_Ratio'] = df['NumCatalogPurchases'] / df['Total_Purchases']\n",
    "df['Store_Purchase_Ratio'] = df['NumStorePurchases'] / df['Total_Purchases']"
   ]
  },
  {
   "cell_type": "code",
   "execution_count": 75,
   "id": "1ddcd4ff-3ea0-444a-9598-1270ee46ccef",
   "metadata": {},
   "outputs": [
    {
     "data": {
      "text/plain": [
       "0    0.363636\n",
       "1    0.250000\n",
       "2    0.400000\n",
       "3    0.333333\n",
       "4    0.357143\n",
       "Name: Web_Purchase_Ratio, dtype: float64"
      ]
     },
     "execution_count": 75,
     "metadata": {},
     "output_type": "execute_result"
    }
   ],
   "source": [
    "df['Web_Purchase_Ratio'].head()"
   ]
  },
  {
   "cell_type": "code",
   "execution_count": 77,
   "id": "65f3c53b-4b56-481b-9406-5aa94968b140",
   "metadata": {},
   "outputs": [],
   "source": [
    "from datetime import datetime\n",
    "today = datetime(2015, 1, 1)\n",
    "df['Customer_Tenure_Days'] = (today - df['Dt_Customer']).dt.days"
   ]
  },
  {
   "cell_type": "code",
   "execution_count": 79,
   "id": "d7ec3f3e-5b9d-48c3-99eb-47265490469b",
   "metadata": {},
   "outputs": [
    {
     "name": "stdout",
     "output_type": "stream",
     "text": [
      "  Dt_Customer  Customer_Tenure_Days\n",
      "0  2012-09-04                   849\n",
      "1  2014-03-08                   299\n",
      "2  2013-08-21                   498\n",
      "3  2014-02-10                   325\n",
      "4  2014-01-19                   347\n"
     ]
    }
   ],
   "source": [
    "print(df[['Dt_Customer', 'Customer_Tenure_Days']].head())"
   ]
  },
  {
   "cell_type": "code",
   "execution_count": 83,
   "id": "716a42f3-7101-4f2d-bf47-cb98f2bf0163",
   "metadata": {},
   "outputs": [],
   "source": [
    "df['Customer_Tenure_Years'] = df['Customer_Tenure_Days'] // 365\n",
    "\n",
    "df['Tenure_Group'] = pd.cut(df['Customer_Tenure_Years'],\n",
    "                            bins=[0, 1, 3, 5, 10],\n",
    "                            labels=['<1 yr', '1-3 yrs', '3-5 yrs', '5+ yrs'])\n"
   ]
  },
  {
   "cell_type": "code",
   "execution_count": 89,
   "id": "7496344b-5126-419f-81f7-5bd6a7c26969",
   "metadata": {},
   "outputs": [
    {
     "name": "stdout",
     "output_type": "stream",
     "text": [
      "  Dt_Customer  Customer_Tenure_Days  Customer_Tenure_Years Tenure_Group\n",
      "0  2012-09-04                   849                      2      1-3 yrs\n",
      "1  2014-03-08                   299                      0        <1 yr\n",
      "2  2013-08-21                   498                      1        <1 yr\n",
      "3  2014-02-10                   325                      0        <1 yr\n",
      "4  2014-01-19                   347                      0        <1 yr\n",
      "5  2013-09-09                   479                      1        <1 yr\n",
      "6  2012-11-13                   779                      2      1-3 yrs\n",
      "7  2013-05-08                   603                      1        <1 yr\n",
      "8  2013-06-06                   574                      1        <1 yr\n",
      "9  2014-03-13                   294                      0        <1 yr\n"
     ]
    }
   ],
   "source": [
    "print(df[['Dt_Customer', 'Customer_Tenure_Days', 'Customer_Tenure_Years', 'Tenure_Group']].head(10))"
   ]
  },
  {
   "cell_type": "code",
   "execution_count": 87,
   "id": "ba7fa51f-465c-4484-b478-73ddf4c4deb7",
   "metadata": {},
   "outputs": [],
   "source": [
    "df['Tenure_Group'] = pd.cut(df['Customer_Tenure_Years'],\n",
    "                            bins=[-1, 1, 3, 5, 10],\n",
    "                            labels=['<1 yr', '1-3 yrs', '3-5 yrs', '5+ yrs'],\n",
    "                            include_lowest=True)\n"
   ]
  },
  {
   "cell_type": "code",
   "execution_count": 91,
   "id": "18aa4a43-e9ca-49ad-8ee7-c1fc1f1446e5",
   "metadata": {},
   "outputs": [],
   "source": [
    "df.to_csv(\"cleaned_marketing_data.csv\", index=False)"
   ]
  },
  {
   "cell_type": "code",
   "execution_count": null,
   "id": "413e5433-7993-47dc-a3ad-7a850e8326c2",
   "metadata": {},
   "outputs": [],
   "source": []
  }
 ],
 "metadata": {
  "kernelspec": {
   "display_name": "Python 3 (ipykernel)",
   "language": "python",
   "name": "python3"
  },
  "language_info": {
   "codemirror_mode": {
    "name": "ipython",
    "version": 3
   },
   "file_extension": ".py",
   "mimetype": "text/x-python",
   "name": "python",
   "nbconvert_exporter": "python",
   "pygments_lexer": "ipython3",
   "version": "3.12.4"
  }
 },
 "nbformat": 4,
 "nbformat_minor": 5
}
